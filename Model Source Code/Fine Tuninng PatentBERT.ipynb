{
 "cells": [
  {
   "cell_type": "markdown",
   "metadata": {},
   "source": [
    "# Evaluate the Pre-trained Model (Before Fine-Tuning):"
   ]
  },
  {
   "cell_type": "code",
   "execution_count": null,
   "metadata": {},
   "outputs": [
    {
     "name": "stderr",
     "output_type": "stream",
     "text": [
      "Some weights of MPNetForSequenceClassification were not initialized from the model checkpoint at AI-Growth-Lab/PatentSBERTa and are newly initialized: ['classifier.dense.bias', 'classifier.dense.weight', 'classifier.out_proj.bias', 'classifier.out_proj.weight']\n",
      "You should probably TRAIN this model on a down-stream task to be able to use it for predictions and inference.\n",
      "/home/jovyan/.conda/envs/testenv/lib/python3.11/site-packages/transformers/training_args.py:1545: FutureWarning: `evaluation_strategy` is deprecated and will be removed in version 4.46 of 🤗 Transformers. Use `eval_strategy` instead\n",
      "  warnings.warn(\n"
     ]
    },
    {
     "data": {
      "text/html": [
       "\n",
       "    <div>\n",
       "      \n",
       "      <progress value='5625' max='5625' style='width:300px; height:20px; vertical-align: middle;'></progress>\n",
       "      [5625/5625 24:38]\n",
       "    </div>\n",
       "    "
      ],
      "text/plain": [
       "<IPython.core.display.HTML object>"
      ]
     },
     "metadata": {},
     "output_type": "display_data"
    },
    {
     "name": "stdout",
     "output_type": "stream",
     "text": [
      "Pre-trained Model Evaluation Metrics: {'eval_model_preparation_time': 0.006, 'eval_runtime': 1481.7994, 'eval_samples_per_second': 60.737, 'eval_steps_per_second': 3.796}\n"
     ]
    }
   ],
   "source": [
    "from transformers import AutoTokenizer, AutoModelForSequenceClassification, Trainer, TrainingArguments\n",
    "from datasets import load_dataset\n",
    "from sklearn.metrics import accuracy_score, precision_recall_fscore_support\n",
    "import accelerate\n",
    "\n",
    "# Load pre-trained PatentBERT model and tokenizer\n",
    "model_name = \"AI-Growth-Lab/PatentSBERTa\"\n",
    "tokenizer = AutoTokenizer.from_pretrained(model_name)\n",
    "model = AutoModelForSequenceClassification.from_pretrained(model_name, num_labels=8)  # Adjust num_labels as needed\n",
    "\n",
    "# Load the dataset from train_dataset.csv\n",
    "file_path = 'train_dataset.csv'\n",
    "dataset = load_dataset('csv', data_files={'train': file_path})\n",
    "\n",
    "# Tokenize the dataset\n",
    "def tokenize_function(example):\n",
    "    return tokenizer(example['claims'], padding='max_length', truncation=True)\n",
    "\n",
    "tokenized_dataset = dataset.map(tokenize_function, batched=True)\n",
    "\n",
    "# Split the dataset into training and validation sets (80% train, 20% validation)\n",
    "train_test_split = tokenized_dataset['train'].train_test_split(test_size=0.2)\n",
    "validation_dataset = train_test_split['test']\n",
    "\n",
    "# Define evaluation metrics\n",
    "def compute_metrics(pred):\n",
    "    labels = pred.label_ids\n",
    "    preds = pred.predictions.argmax(-1)\n",
    "    accuracy = accuracy_score(labels, preds)\n",
    "    precision, recall, f1, _ = precision_recall_fscore_support(labels, preds, average='weighted')\n",
    "    return {\n",
    "        'accuracy': accuracy,\n",
    "        'precision': precision,\n",
    "        'recall': recall,\n",
    "        'f1': f1\n",
    "    }\n",
    "\n",
    "# Set up training arguments for evaluation\n",
    "training_args = TrainingArguments(\n",
    "    output_dir=\"./results_pretrained\",  \n",
    "    per_device_eval_batch_size=16,\n",
    "    logging_dir='./logs_pretrained',\n",
    "    evaluation_strategy=\"epoch\"\n",
    ")\n",
    "\n",
    "# Set up Trainer for evaluation\n",
    "trainer = Trainer(\n",
    "    model=model,\n",
    "    args=training_args,\n",
    "    eval_dataset=validation_dataset,\n",
    "    compute_metrics=compute_metrics\n",
    ")\n",
    "\n",
    "# Evaluate the pre-trained model\n",
    "pretrain_eval_result = trainer.evaluate()\n",
    "\n",
    "# Save the pre-trained evaluation results\n",
    "import json\n",
    "with open('pretrained_eval_results.json', 'w') as f:\n",
    "    json.dump(pretrain_eval_result, f)\n",
    "\n",
    "# Print the evaluation metrics for the pre-trained model\n",
    "print(\"Pre-trained Model Evaluation Metrics:\", pretrain_eval_result)\n"
   ]
  },
  {
   "cell_type": "markdown",
   "metadata": {},
   "source": [
    "# Fine Tuning PatentBERT"
   ]
  },
  {
   "cell_type": "code",
   "execution_count": 12,
   "metadata": {},
   "outputs": [],
   "source": [
    "import torch\n",
    "torch.cuda.empty_cache()\n"
   ]
  },
  {
   "cell_type": "code",
   "execution_count": 1,
   "metadata": {},
   "outputs": [
    {
     "data": {
      "application/vnd.jupyter.widget-view+json": {
       "model_id": "bf4fbcc5346645dcbcaf7df5ebf19b53",
       "version_major": 2,
       "version_minor": 0
      },
      "text/plain": [
       "tokenizer_config.json:   0%|          | 0.00/440 [00:00<?, ?B/s]"
      ]
     },
     "metadata": {},
     "output_type": "display_data"
    },
    {
     "data": {
      "application/vnd.jupyter.widget-view+json": {
       "model_id": "26ec8323f9fb4581b847905a273587c7",
       "version_major": 2,
       "version_minor": 0
      },
      "text/plain": [
       "vocab.txt:   0%|          | 0.00/232k [00:00<?, ?B/s]"
      ]
     },
     "metadata": {},
     "output_type": "display_data"
    },
    {
     "data": {
      "application/vnd.jupyter.widget-view+json": {
       "model_id": "7194ea7a5e2d4875848e6f3eb2fbc7e0",
       "version_major": 2,
       "version_minor": 0
      },
      "text/plain": [
       "tokenizer.json:   0%|          | 0.00/466k [00:00<?, ?B/s]"
      ]
     },
     "metadata": {},
     "output_type": "display_data"
    },
    {
     "data": {
      "application/vnd.jupyter.widget-view+json": {
       "model_id": "ac324845c90944c98b4b4922a921b995",
       "version_major": 2,
       "version_minor": 0
      },
      "text/plain": [
       "special_tokens_map.json:   0%|          | 0.00/239 [00:00<?, ?B/s]"
      ]
     },
     "metadata": {},
     "output_type": "display_data"
    },
    {
     "data": {
      "application/vnd.jupyter.widget-view+json": {
       "model_id": "1bbd1e7577044de4913cf2cf45791406",
       "version_major": 2,
       "version_minor": 0
      },
      "text/plain": [
       "Map:   0%|          | 0/450000 [00:00<?, ? examples/s]"
      ]
     },
     "metadata": {},
     "output_type": "display_data"
    }
   ],
   "source": [
    "import torch\n",
    "from transformers import AutoTokenizer, AutoModelForSequenceClassification, Trainer, TrainingArguments\n",
    "from datasets import Dataset\n",
    "from sklearn.preprocessing import LabelEncoder\n",
    "from sklearn.metrics import accuracy_score, precision_recall_fscore_support\n",
    "import joblib\n",
    "import pandas as pd\n",
    "import os\n",
    "\n",
    "# Enable Tokenizer Parallelism (if safe)\n",
    "os.environ[\"TOKENIZERS_PARALLELISM\"] = \"true\"\n",
    "\n",
    "# Clear CUDA cache before starting\n",
    "torch.cuda.empty_cache()\n",
    "\n",
    "# Load the dataset from train_dataset.csv\n",
    "file_path = 'train_dataset.csv'\n",
    "df = pd.read_csv(file_path)\n",
    "\n",
    "# Extract the IPC section, class, and subclass from the IPC code\n",
    "df['ipc_section'] = df['ipc'].apply(lambda x: x[0] if pd.notna(x) and len(x) > 0 else '')\n",
    "df['ipc_class'] = df['ipc'].apply(lambda x: x[:3] if pd.notna(x) and len(x) >= 3 else '')\n",
    "df['ipc_subclass'] = df['ipc'].apply(lambda x: x[:4] if pd.notna(x) and len(x) >= 4 else '')\n",
    "\n",
    "# Initialize LabelEncoders for each level (section, class, subclass)\n",
    "label_encoder_section = LabelEncoder()\n",
    "label_encoder_class = LabelEncoder()\n",
    "label_encoder_subclass = LabelEncoder()\n",
    "\n",
    "# Encode the section, class, and subclass IPC codes into numerical labels\n",
    "df['encoded_section'] = label_encoder_section.fit_transform(df['ipc_section'])\n",
    "df['encoded_class'] = label_encoder_class.fit_transform(df['ipc_class'])\n",
    "df['encoded_subclass'] = label_encoder_subclass.fit_transform(df['ipc_subclass'])\n",
    "\n",
    "# Rename the label column to 'labels' for Hugging Face compatibility\n",
    "df = df.rename(columns={'encoded_section': 'labels'})  # Start with section labels\n",
    "\n",
    "# Convert the DataFrame into Hugging Face Dataset format\n",
    "dataset = Dataset.from_pandas(df)\n",
    "\n",
    "# Load the PatentBERT tokenizer\n",
    "model_name = \"AI-Growth-Lab/PatentSBERTa\"\n",
    "tokenizer = AutoTokenizer.from_pretrained(model_name)\n",
    "\n",
    "# Tokenize the dataset (using 'claims' column for input text)\n",
    "def tokenize_function(example):\n",
    "    return tokenizer(example['claims'], padding='max_length', truncation=True)\n",
    "\n",
    "# Tokenize the dataset\n",
    "tokenized_dataset = dataset.map(tokenize_function, batched=True)\n",
    "\n",
    "# Split the dataset into training and validation sets (80% train, 20% validation)\n",
    "train_test_split = tokenized_dataset.train_test_split(test_size=0.2)\n",
    "train_dataset = train_test_split['train']\n",
    "validation_dataset = train_test_split['test']\n",
    "\n",
    "# Define evaluation metrics\n",
    "def compute_metrics(pred):\n",
    "    labels = pred.label_ids\n",
    "    preds = pred.predictions.argmax(-1)\n",
    "    accuracy = accuracy_score(labels, preds)\n",
    "    precision, recall, f1, _ = precision_recall_fscore_support(labels, preds, average='weighted')\n",
    "    return {\n",
    "        'accuracy': accuracy,\n",
    "        'precision': precision,\n",
    "        'recall': recall,\n",
    "        'f1': f1\n",
    "    }\n",
    "\n"
   ]
  },
  {
   "cell_type": "code",
   "execution_count": 2,
   "metadata": {},
   "outputs": [
    {
     "name": "stdout",
     "output_type": "stream",
     "text": [
      "Training for IPC Section Classification...\n"
     ]
    },
    {
     "name": "stderr",
     "output_type": "stream",
     "text": [
      "/home/sahaarnab013/.conda/envs/testenv/lib/python3.11/site-packages/transformers/training_args.py:1545: FutureWarning: `evaluation_strategy` is deprecated and will be removed in version 4.46 of 🤗 Transformers. Use `eval_strategy` instead\n",
      "  warnings.warn(\n"
     ]
    },
    {
     "data": {
      "application/vnd.jupyter.widget-view+json": {
       "model_id": "f8ef5eb0fa044fe5b34acd23fb139479",
       "version_major": 2,
       "version_minor": 0
      },
      "text/plain": [
       "config.json:   0%|          | 0.00/671 [00:00<?, ?B/s]"
      ]
     },
     "metadata": {},
     "output_type": "display_data"
    },
    {
     "data": {
      "application/vnd.jupyter.widget-view+json": {
       "model_id": "7c0bc015fe924e35bb40618bcb2aa8e2",
       "version_major": 2,
       "version_minor": 0
      },
      "text/plain": [
       "pytorch_model.bin:   0%|          | 0.00/438M [00:00<?, ?B/s]"
      ]
     },
     "metadata": {},
     "output_type": "display_data"
    },
    {
     "name": "stderr",
     "output_type": "stream",
     "text": [
      "Some weights of MPNetForSequenceClassification were not initialized from the model checkpoint at AI-Growth-Lab/PatentSBERTa and are newly initialized: ['classifier.dense.bias', 'classifier.dense.weight', 'classifier.out_proj.bias', 'classifier.out_proj.weight']\n",
      "You should probably TRAIN this model on a down-stream task to be able to use it for predictions and inference.\n"
     ]
    },
    {
     "name": "stdout",
     "output_type": "stream",
     "text": [
      "Starting Epoch 1/3\n",
      "Free GPU Memory at Epoch Start: 15.36 GB\n",
      "Increasing batch size to: 20\n"
     ]
    },
    {
     "data": {
      "text/html": [
       "\n",
       "    <div>\n",
       "      \n",
       "      <progress value='7872' max='54000' style='width:300px; height:20px; vertical-align: middle;'></progress>\n",
       "      [ 7872/54000 1:16:54 < 7:30:47, 1.71 it/s, Epoch 0.44/3]\n",
       "    </div>\n",
       "    <table border=\"1\" class=\"dataframe\">\n",
       "  <thead>\n",
       " <tr style=\"text-align: left;\">\n",
       "      <th>Epoch</th>\n",
       "      <th>Training Loss</th>\n",
       "      <th>Validation Loss</th>\n",
       "    </tr>\n",
       "  </thead>\n",
       "  <tbody>\n",
       "  </tbody>\n",
       "</table><p>"
      ],
      "text/plain": [
       "<IPython.core.display.HTML object>"
      ]
     },
     "metadata": {},
     "output_type": "display_data"
    }
   ],
   "source": [
    "import torch\n",
    "import os\n",
    "from transformers import Trainer, TrainingArguments, AutoModelForSequenceClassification\n",
    "import joblib\n",
    "import time\n",
    "\n",
    "print(\"Training for IPC Section Classification...\")\n",
    "\n",
    "# Function to check available memory\n",
    "def get_free_memory():\n",
    "    # Get the current GPU memory usage\n",
    "    torch.cuda.synchronize()\n",
    "    torch.cuda.empty_cache()\n",
    "    free_memory = torch.cuda.get_device_properties(0).total_memory - torch.cuda.memory_allocated(0)\n",
    "    return free_memory / (1024 ** 3)  # Return memory in GB\n",
    "\n",
    "# Custom Trainer to dynamically adjust batch size\n",
    "class DynamicBatchTrainer(Trainer):\n",
    "    def __init__(self, *args, batch_size_step=5, max_batch_size=50, **kwargs):\n",
    "        super().__init__(*args, **kwargs)\n",
    "        self.batch_size_step = batch_size_step\n",
    "        self.max_batch_size = max_batch_size\n",
    "\n",
    "    def train(self, resume_from_checkpoint=None, trial=None, ignore_keys_for_eval=None, **kwargs):\n",
    "        # Start the training loop\n",
    "        for epoch in range(int(self.args.num_train_epochs)):\n",
    "            print(f\"Starting Epoch {epoch + 1}/{self.args.num_train_epochs}\")\n",
    "            # Check for available GPU memory before each epoch\n",
    "            free_memory = get_free_memory()\n",
    "            print(f\"Free GPU Memory at Epoch Start: {free_memory:.2f} GB\")\n",
    "            \n",
    "            # Dynamically increase batch size if more memory is available and under the max limit\n",
    "            if free_memory > 2 and self.args.per_device_train_batch_size < self.max_batch_size:\n",
    "                new_batch_size = min(self.args.per_device_train_batch_size + self.batch_size_step, self.max_batch_size)\n",
    "                print(f\"Increasing batch size to: {new_batch_size}\")\n",
    "                self.args.per_device_train_batch_size = new_batch_size\n",
    "            \n",
    "            # Call the original training method\n",
    "            super().train(resume_from_checkpoint, trial, ignore_keys_for_eval, **kwargs)\n",
    "            # Pause between epochs to clear memory and check for memory status\n",
    "            time.sleep(10)  # Sleep for 10 seconds to allow for memory cleanup\n",
    "\n",
    "# Check for any existing checkpoints\n",
    "checkpoint_dir = \"./results_section/checkpoint\"\n",
    "last_checkpoint = None\n",
    "if os.path.isdir(checkpoint_dir):\n",
    "    last_checkpoint = checkpoint_dir\n",
    "\n",
    "# TrainingArguments for IPC Section\n",
    "initial_batch_size = 15  # Start with a smaller batch size\n",
    "training_args_section = TrainingArguments(\n",
    "    output_dir=\"./results_section\",  # Directory for saving checkpoints\n",
    "    evaluation_strategy=\"epoch\",\n",
    "    save_strategy=\"epoch\",  # Save checkpoint after every epoch\n",
    "    learning_rate=2e-5,\n",
    "    per_device_train_batch_size=initial_batch_size,\n",
    "    per_device_eval_batch_size=initial_batch_size,\n",
    "    num_train_epochs=3,\n",
    "    weight_decay=0.01,\n",
    "    logging_dir='./logs_section',\n",
    "    logging_steps=10,\n",
    "    fp16=False,  # Disable mixed precision training\n",
    "    save_steps=100,  # Save model checkpoint every 500 steps\n",
    "    save_total_limit=2,  # Limit the total number of saved checkpoints\n",
    "    dataloader_num_workers=4,  # Speed up data loading\n",
    "    load_best_model_at_end=True,\n",
    ")\n",
    "\n",
    "# Load PatentBERT for IPC Section Classification\n",
    "num_section_labels = len(df['labels'].unique())\n",
    "model_section = AutoModelForSequenceClassification.from_pretrained(model_name, num_labels=num_section_labels)\n",
    "\n",
    "# Set up the dynamic batch trainer\n",
    "trainer_section = DynamicBatchTrainer(\n",
    "    model=model_section,\n",
    "    args=training_args_section,\n",
    "    train_dataset=train_dataset,\n",
    "    eval_dataset=validation_dataset,\n",
    "    compute_metrics=compute_metrics,\n",
    "    batch_size_step=5,  # Increase batch size by 5 when memory is available\n",
    "    max_batch_size=50,  # Maximum batch size limit\n",
    ")\n",
    "\n",
    "# Fine-tune the model for IPC Section, resuming from the last checkpoint if available\n",
    "trainer_section.train(resume_from_checkpoint=last_checkpoint)\n",
    "\n",
    "# Evaluate the model for IPC Section\n",
    "evaluation_results_section = trainer_section.evaluate()\n",
    "\n",
    "# Print detailed evaluation results for IPC Section\n",
    "print(\"Evaluation Metrics for IPC Section Classification:\")\n",
    "print(f\"Accuracy: {evaluation_results_section['eval_accuracy'] * 100:.2f}%\")\n",
    "print(f\"Precision: {evaluation_results_section['eval_precision'] * 100:.2f}%\")\n",
    "print(f\"Recall: {evaluation_results_section['eval_recall'] * 100:.2f}%\")\n",
    "print(f\"F1 Score: {evaluation_results_section['eval_f1'] * 100:.2f}%\")\n",
    "\n",
    "# Save the fine-tuned model and tokenizer for IPC Section\n",
    "trainer_section.save_model(\"./fine_tuned_patentbert_ipc_section\")\n",
    "tokenizer.save_pretrained(\"./fine_tuned_patentbert_ipc_section\")\n",
    "joblib.dump(label_encoder_section, './fine_tuned_patentbert_ipc_section/label_encoder_section.pkl') "
   ]
  },
  {
   "cell_type": "markdown",
   "metadata": {},
   "source": [
    "# Compare with the Pretrained and Finetuned for Section Prediction"
   ]
  },
  {
   "cell_type": "code",
   "execution_count": null,
   "metadata": {},
   "outputs": [],
   "source": [
    "print(\"\\n### Model Comparison ###\\n\")\n",
    "\n",
    "# Compare Accuracy\n",
    "print(f\"Pre-trained PatentBERT Accuracy: {evaluation_results_pretrained['eval_accuracy'] * 100:.2f}%\")\n",
    "print(f\"Fine-tuned PatentBERT Accuracy: {evaluation_results_finetuned['eval_accuracy'] * 100:.2f}%\\n\")\n",
    "\n",
    "# Compare Precision\n",
    "print(f\"Pre-trained PatentBERT Precision: {evaluation_results_pretrained['eval_precision'] * 100:.2f}%\")\n",
    "print(f\"Fine-tuned PatentBERT Precision: {evaluation_results_finetuned['eval_precision'] * 100:.2f}%\\n\")\n",
    "\n",
    "# Compare Recall\n",
    "print(f\"Pre-trained PatentBERT Recall: {evaluation_results_pretrained['eval_recall'] * 100:.2f}%\")\n",
    "print(f\"Fine-tuned PatentBERT Recall: {evaluation_results_finetuned['eval_recall'] * 100:.2f}%\\n\")\n",
    "\n",
    "# Compare F1 Score\n",
    "print(f\"Pre-trained PatentBERT F1 Score: {evaluation_results_pretrained['eval_f1'] * 100:.2f}%\")\n",
    "print(f\"Fine-tuned PatentBERT F1 Score: {evaluation_results_finetuned['eval_f1'] * 100:.2f}%\\n\")\n"
   ]
  },
  {
   "cell_type": "code",
   "execution_count": null,
   "metadata": {},
   "outputs": [],
   "source": []
  }
 ],
 "metadata": {
  "kernelspec": {
   "display_name": "Python 3 (ipykernel)",
   "language": "python",
   "name": "python3"
  },
  "language_info": {
   "codemirror_mode": {
    "name": "ipython",
    "version": 3
   },
   "file_extension": ".py",
   "mimetype": "text/x-python",
   "name": "python",
   "nbconvert_exporter": "python",
   "pygments_lexer": "ipython3",
   "version": "3.11.10"
  }
 },
 "nbformat": 4,
 "nbformat_minor": 4
}
